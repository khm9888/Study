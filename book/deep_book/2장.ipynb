{
 "cells": [
  {
   "cell_type": "code",
   "execution_count": 1,
   "metadata": {},
   "outputs": [
    {
     "name": "stdout",
     "output_type": "stream",
     "text": [
      "X_train : (120, 4)\n",
      "y_train : (120,)\n",
      "X_test : (30, 4)\n",
      "y_test : (30,)\n"
     ]
    }
   ],
   "source": [
    "# 코드의 실행에 필요한 모듈을 읽습니다.\n",
    "from sklearn import datasets\n",
    "from sklearn.model_selection import train_test_split\n",
    "\n",
    "# Iris라는 데이터 세트를 읽습니다\n",
    "iris = datasets.load_iris()\n",
    "X = iris.data\n",
    "y = iris.target\n",
    "\n",
    "# X_train, X_test, y_train, y_test에 데이터를 저장합니다\n",
    "X_train, X_test, y_train, y_test = train_test_split(X, y, test_size=0.2,\n",
    "random_state=0)\n",
    "# 훈련 데이터와 테스트 데이터의 사이즈를 확인합니다\n",
    "print (\"X_train :\", X_train.shape)\n",
    "print (\"y_train :\", y_train.shape)\n",
    "print (\"X_test :\", X_test.shape)\n",
    "print (\"y_test :\", y_test.shape)"
   ]
  },
  {
   "cell_type": "code",
   "execution_count": 3,
   "metadata": {},
   "outputs": [
    {
     "name": "stdout",
     "output_type": "stream",
     "text": [
      "[0.86666667 0.96666667 0.83333333 0.96666667 0.93333333]\n",
      "평균 점수:  0.9133333333333334\n"
     ]
    }
   ],
   "source": [
    "# 코드의 실행에 필요한 모듈을 로드합니다\n",
    "from sklearn import svm, datasets, cross_validation\n",
    "\n",
    "# \"Iris\"라는 데이터 세트를 가져옵니다\n",
    "iris = datasets.load_iris()\n",
    "X = iris.data\n",
    "y = iris.target\n",
    "\n",
    "# 머신 러닝 알고리즘 SVM을 사용합니다\n",
    "svc = svm.SVC(C=1, kernel=\"rbf\", gamma=0.001)\n",
    "\n",
    "# 교차 검증법을 이용하여 점수를 요구합니다\n",
    "# 내부에서는 X, y가 각각 X_train, X_test, y_train, y_test처럼 분할 처리됩니다\n",
    "scores = cross_validation.cross_val_score(svc, X, y, cv=5)\n",
    "\n",
    "# 학습 데이터와 테스트 데이터의 크기를 확인합니다\n",
    "print (scores)\n",
    "print (\"평균 점수: \", scores.mean())"
   ]
  },
  {
   "cell_type": "code",
   "execution_count": null,
   "metadata": {},
   "outputs": [],
   "source": []
  }
 ],
 "metadata": {
  "kernelspec": {
   "display_name": "Python 3",
   "language": "python",
   "name": "python3"
  },
  "language_info": {
   "codemirror_mode": {
    "name": "ipython",
    "version": 3
   },
   "file_extension": ".py",
   "mimetype": "text/x-python",
   "name": "python",
   "nbconvert_exporter": "python",
   "pygments_lexer": "ipython3",
   "version": "3.6.8"
  }
 },
 "nbformat": 4,
 "nbformat_minor": 2
}
